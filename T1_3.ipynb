{
 "cells": [
  {
   "cell_type": "code",
   "execution_count": 4,
   "metadata": {},
   "outputs": [],
   "source": [
    "request_spending = {\n",
    "    \"Mahek\": {\n",
    "        \"balance\": 3000.00,\n",
    "        \"transactions\": [\n",
    "            {\"amount\": -9000.00, \"category\": \"Creatives\"},\n",
    "            {\"amount\": 7000.00, \"category\": \"Sponsor\"},\n",
    "            {\"amount\": -2000.00, \"category\": \"Prize-Money\"}\n",
    "        ]\n",
    "    },\n",
    "    \"Arham\": {\n",
    "        \"balance\": 5000.00,\n",
    "        \"transactions\": [\n",
    "            {\"amount\": 8000.00, \"category\": \"Stalls\"},\n",
    "            {\"amount\": 7500.00, \"category\": \"Seminars\"}\n",
    "        ]\n",
    "    },\n",
    "    \"Unnati\": {\n",
    "        \"balance\": 3500.00,\n",
    "        \"transactions\": [\n",
    "            {\"amount\": -5000.00, \"category\": \"Attraction\"},\n",
    "            {\"amount\": 2500.00, \"category\": \"Promo\"},\n",
    "            {\"amount\": -900.00, \"category\": \"Lighting\"},\n",
    "            {\"amount\": 3000.00, \"category\": \"Games\"}\n",
    "        ]\n",
    "    },\n",
    "    \"Gaurang\": {\n",
    "        \"balance\": 2000.00,\n",
    "        \"transactions\": [\n",
    "            {\"amount\": 1500.00, \"category\": \"Website\"},\n",
    "            {\"amount\": 1000.00, \"category\": \"C2C\"},\n",
    "            {\"amount\": -500.00, \"category\": \"Posters\"}\n",
    "        ]\n",
    "    }\n",
    "}"
   ]
  },
  {
   "cell_type": "code",
   "execution_count": 1,
   "metadata": {},
   "outputs": [],
   "source": [
    "def total_spending(request_spending, account_id: str, category: str) -> float:\n",
    "    if account_id not in request_spending:\n",
    "        print(\"Wrong account ID\")\n",
    "        return 0.0\n",
    "    \n",
    "    total = 0.0\n",
    "    for transaction in request_spending[account_id][\"transactions\"]:\n",
    "        if transaction[\"category\"] == category:\n",
    "            total = total + transaction[\"amount\"]\n",
    "    \n",
    "    return total"
   ]
  },
  {
   "cell_type": "code",
   "execution_count": 1,
   "metadata": {},
   "outputs": [],
   "source": [
    "def account_balance(request_spending, account_id: str) -> float:\n",
    "    if account_id not in request_spending:\n",
    "        print(\"Wrong account ID\")\n",
    "        return 0.0\n",
    "    \n",
    "    initial_balance = request_spending[account_id][\"balance\"]\n",
    "    for transaction in request_spending[account_id][\"transactions\"]:\n",
    "        initial_balance = initial_balance + transaction[\"amount\"]\n",
    "    \n",
    "    return initial_balance"
   ]
  },
  {
   "cell_type": "code",
   "execution_count": 2,
   "metadata": {},
   "outputs": [],
   "source": [
    "def money_owed(request_spending, account_id: str) -> float:\n",
    "    if account_id not in request_spending:\n",
    "        return 0.0\n",
    "    \n",
    "    return request_spending[account_id].get(\"money_owed\", 0.0)"
   ]
  },
  {
   "cell_type": "code",
   "execution_count": 7,
   "metadata": {},
   "outputs": [
    {
     "name": "stdout",
     "output_type": "stream",
     "text": [
      "7000.0\n",
      "-1000.0\n"
     ]
    }
   ],
   "source": [
    "print(total_spending(request_spending, \"Mahek\", \"Sponsor\"))  \n",
    "print(account_balance(request_spending, \"Mahek\")) "
   ]
  },
  {
   "cell_type": "code",
   "execution_count": null,
   "metadata": {},
   "outputs": [],
   "source": []
  }
 ],
 "metadata": {
  "kernelspec": {
   "display_name": "Python 3",
   "language": "python",
   "name": "python3"
  },
  "language_info": {
   "codemirror_mode": {
    "name": "ipython",
    "version": 3
   },
   "file_extension": ".py",
   "mimetype": "text/x-python",
   "name": "python",
   "nbconvert_exporter": "python",
   "pygments_lexer": "ipython3",
   "version": "3.12.3"
  }
 },
 "nbformat": 4,
 "nbformat_minor": 2
}
