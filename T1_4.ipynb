{
 "cells": [
  {
   "cell_type": "code",
   "execution_count": 29,
   "metadata": {},
   "outputs": [],
   "source": [
    "customers = [[5,2],[5,4],[10,3],[20,1]]"
   ]
  },
  {
   "cell_type": "code",
   "execution_count": 30,
   "metadata": {},
   "outputs": [],
   "source": [
    "total_waiting_time =[]\n",
    "Iroh_time_to_make = customers[0][0]\n",
    "begin_time=0"
   ]
  },
  {
   "cell_type": "code",
   "execution_count": 31,
   "metadata": {},
   "outputs": [],
   "source": [
    "for arrival_time, time_to_prepare in customers :\n",
    "    if(Iroh_time_to_make<=arrival_time):\n",
    "        total_waiting_time.append(time_to_prepare)\n",
    "        Iroh_time_to_make=Iroh_time_to_make+time_to_prepare\n",
    "    else:\n",
    "        begin_time=Iroh_time_to_make-arrival_time\n",
    "        total_waiting_time.append(begin_time+time_to_prepare)\n",
    "        Iroh_time_to_make=Iroh_time_to_make+time_to_prepare"
   ]
  },
  {
   "cell_type": "code",
   "execution_count": 40,
   "metadata": {},
   "outputs": [],
   "source": [
    "avgtime=0\n",
    "for i in total_waiting_time:\n",
    "    avgtime=avgtime+i"
   ]
  },
  {
   "cell_type": "code",
   "execution_count": 41,
   "metadata": {},
   "outputs": [
    {
     "name": "stdout",
     "output_type": "stream",
     "text": [
      "3.25\n"
     ]
    }
   ],
   "source": [
    "print(avgtime/len(total_waiting_time))"
   ]
  }
 ],
 "metadata": {
  "kernelspec": {
   "display_name": "Python 3",
   "language": "python",
   "name": "python3"
  },
  "language_info": {
   "codemirror_mode": {
    "name": "ipython",
    "version": 3
   },
   "file_extension": ".py",
   "mimetype": "text/x-python",
   "name": "python",
   "nbconvert_exporter": "python",
   "pygments_lexer": "ipython3",
   "version": "3.12.3"
  }
 },
 "nbformat": 4,
 "nbformat_minor": 2
}
