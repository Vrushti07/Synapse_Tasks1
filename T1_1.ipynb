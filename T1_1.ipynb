{
 "cells": [
  {
   "cell_type": "code",
   "execution_count": 1,
   "metadata": {},
   "outputs": [],
   "source": [
    "from itertools import combinations\n",
    "\n",
    "Kevin = {\"Halsey\", \"Taylor Swift\", \"Mitski\", \"Joji\", \"Shawn Mendes\", \"Sabrina Carpenter\", \"Nicky Minaj\", \"Conan Gray\", \"One Direction\", \"Justin Bieber\"}\n",
    "\n",
    "Stuart = {\"Kendrick Lamar\", \"Steve Lacy\", \"Tyler the Creator\", \"Joji\", \"TheWeeknd\", \"Coldplay\", \"Kanye West\", \"Travis Scott\", \"Frank Ocean\", \"Brent Faiyaz\"}\n",
    "\n",
    "Bob = {\"Conan Gray\", \"Joji\", \"Dove Cameron\", \"Mitski\", \"Arctic Monkeys\", \"Steve Lacy\", \"Kendrick Lamar\", \"Isabel LaRosa\", \"Shawn Mendes\", \"Coldplay\"}\n",
    "\n",
    "Edith = {\"Metallica\", \"Billie Eilish\", \"TheWeeknd\", \"Mitski\", \"NF\", \"Conan Gray\", \"Kendrick Lamar\", \"Nicky Minaj\", \"Kanye West\", \"Coldplay\"}"
   ]
  },
  {
   "cell_type": "code",
   "execution_count": null,
   "metadata": {},
   "outputs": [],
   "source": []
  },
  {
   "cell_type": "code",
   "execution_count": 2,
   "metadata": {},
   "outputs": [],
   "source": [
    "dj=[Kevin,Stuart,Bob,Edith]\n",
    "djname=[\"Kevin\",\"Stuart\",\"Bob\",\"Edith\"]\n",
    "overlap=[]"
   ]
  },
  {
   "cell_type": "code",
   "execution_count": 3,
   "metadata": {},
   "outputs": [],
   "source": [
    "combdj =list(combinations(dj, 2))      \n",
    "djcomb=list(combinations(djname,2))"
   ]
  },
  {
   "cell_type": "code",
   "execution_count": 4,
   "metadata": {},
   "outputs": [],
   "source": [
    "for i in list(combdj):\n",
    "    inter = len(i[0].intersection(i[1]))\n",
    "    union = len(i[0])+len(i[1])-inter\n",
    "    overlap.append(inter/union*100)\n",
    "#    overlap.append((len(i[1].intersection(i[0]))/len(i[1]))*100)"
   ]
  },
  {
   "cell_type": "code",
   "execution_count": 5,
   "metadata": {},
   "outputs": [],
   "source": [
    "final = list(zip(djcomb,overlap))"
   ]
  },
  {
   "cell_type": "code",
   "execution_count": 6,
   "metadata": {},
   "outputs": [],
   "source": [
    "final.sort(key=lambda x:-x[1])"
   ]
  },
  {
   "cell_type": "code",
   "execution_count": 7,
   "metadata": {},
   "outputs": [],
   "source": [
    "for i in list(final):\n",
    "    if (i[1]>=30):\n",
    "        print(final)"
   ]
  }
 ],
 "metadata": {
  "kernelspec": {
   "display_name": "Python 3",
   "language": "python",
   "name": "python3"
  },
  "language_info": {
   "codemirror_mode": {
    "name": "ipython",
    "version": 3
   },
   "file_extension": ".py",
   "mimetype": "text/x-python",
   "name": "python",
   "nbconvert_exporter": "python",
   "pygments_lexer": "ipython3",
   "version": "3.12.3"
  }
 },
 "nbformat": 4,
 "nbformat_minor": 2
}
